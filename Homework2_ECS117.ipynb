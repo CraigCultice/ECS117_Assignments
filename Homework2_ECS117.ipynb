{
 "cells": [
  {
   "cell_type": "markdown",
   "id": "7365278f-c862-4e9b-82ad-6243df24f1ff",
   "metadata": {},
   "source": [
    "# Tasks"
   ]
  },
  {
   "cell_type": "markdown",
   "id": "c16eabe9-a231-4489-bc95-f7e5f60f3793",
   "metadata": {},
   "source": [
    "### Task 1"
   ]
  },
  {
   "cell_type": "code",
   "execution_count": 1,
   "id": "aa9e54aa-f07f-41c6-aa40-64511077c683",
   "metadata": {},
   "outputs": [],
   "source": [
    "import random\n",
    "\n",
    "# Generates random string made up of characters in 'ACTG'\n",
    "def generate_dna(n = 400):\n",
    "    return ''.join(random.choices(\"ACTG\", k = n))"
   ]
  },
  {
   "cell_type": "markdown",
   "id": "d6ea09e3-5c2c-4014-a2e0-af3460c57d80",
   "metadata": {},
   "source": [
    "### Task 2"
   ]
  },
  {
   "cell_type": "code",
   "execution_count": 2,
   "id": "2a78ff45-7e14-4883-9266-75331ddda6ab",
   "metadata": {},
   "outputs": [],
   "source": [
    "def EditDistance(X, Y):\n",
    "    m = len(X)\n",
    "    n = len(Y)\n",
    "    c = [[0] * (n + 1) for _ in range(m + 1)] # Create matrix c with size (m+1) x (n+1), initialized to zero\n",
    "    \n",
    "    for i in range(m + 1): # Initialize the base case\n",
    "        c[i][0] = i  # Cost of deleting all characters from X to match empty Y\n",
    "    for j in range(n + 1):\n",
    "        c[0][j] = j  # Cost of inserting all characters of Y to match empty X\n",
    "    \n",
    "    # Compute Edit Distance\n",
    "    for i in range(1, m + 1): # loop through the length of X\n",
    "        for j in range(1, n + 1): # loop through the length of y\n",
    "            if X[i-1] == Y[j-1]: \n",
    "                cost = 0  # No cost if characters are the same\n",
    "            else:\n",
    "                cost = 1 # cost for substitution  # Cost of 1 for a substitution\n",
    "            \n",
    "            c[i][j] = min(c[i-1][j-1] + cost, # Substitution\n",
    "                          c[i-1][j] + 1,  # cost for deletion\n",
    "                          c[i][j-1] + 1) #cost for insertion\n",
    "    \n",
    "    return c[m][n]  # Edit distance is bottom right cell as it acts as the total"
   ]
  },
  {
   "cell_type": "markdown",
   "id": "4ff372a3-c067-42cc-b254-d9010c37fa14",
   "metadata": {},
   "source": [
    "### Task 3"
   ]
  },
  {
   "cell_type": "code",
   "execution_count": 3,
   "id": "057bafe4-fd1f-45ba-9a75-f35aeb2202a6",
   "metadata": {},
   "outputs": [],
   "source": [
    "DNA = [] # create empty list for DNA strands to be stored\n",
    "for i in range(20): # loop 20 times to create 20 DNA strands\n",
    "    DNA.append(generate_dna()) # calling function to create DNA strand and add it to the list"
   ]
  },
  {
   "cell_type": "code",
   "execution_count": 4,
   "id": "022dbfd2-efdc-4027-a5fb-66280abeccbd",
   "metadata": {},
   "outputs": [],
   "source": [
    "distances = [] # create empty list for edit distances to be stored in\n",
    "\n",
    "for i in range(len(DNA)): # loop to iterate through DNA strands\n",
    "    for j in range(i + 1, len(DNA)): # loops through the DNA strands that have not been looped through yet in i\n",
    "        distances.append(EditDistance(DNA[i], DNA[j])) # calculate edit distances and add them to the list"
   ]
  },
  {
   "cell_type": "markdown",
   "id": "80f0e221-4809-47af-ae82-ded9045131c5",
   "metadata": {},
   "source": [
    "### Task 4"
   ]
  },
  {
   "cell_type": "code",
   "execution_count": 10,
   "id": "babb1dcc-f048-46cc-bdc0-82f3a89b368c",
   "metadata": {},
   "outputs": [
    {
     "name": "stdout",
     "output_type": "stream",
     "text": [
      "213.93684210526317\n"
     ]
    },
    {
     "data": {
      "image/png": "[encoded data removed]",
      "text/plain": [
       "<Figure size 640x480 with 1 Axes>"
      ]
     },
     "metadata": {},
     "output_type": "display_data"
    }
   ],
   "source": [
    "import matplotlib.pyplot as plt\n",
    "\n",
    "plt.hist(distances, edgecolor = 'black') # creates histogram\n",
    "plt.title('Edit Distance Frequemcy of DNA samples')\n",
    "plt.xlabel('Edit Distance') # x-axis label\n",
    "plt.ylabel('Frequency') # y-axis label\n",
    "\n",
    "mean_distance = sum(distances)/len(distances) # calculating sum\n",
    "print(mean_distance)"
   ]
  },
  {
   "cell_type": "markdown",
   "id": "7c05ee15-5100-4f24-a5a6-3085198f4d80",
   "metadata": {},
   "source": [
    "# Real Life Data"
   ]
  },
  {
   "cell_type": "code",
   "execution_count": 7,
   "id": "4441ad9d-3683-4e2c-9a4a-2236a457541d",
   "metadata": {},
   "outputs": [],
   "source": [
    "from Bio import Entrez, SeqIO\n",
    "\n",
    "Entrez.email = \"cacultice@ucdavis.edu\"\n",
    "\n",
    "# Dictionary of species and their GenBank numbers\n",
    "species_data = {\n",
    "    \"German Neanderthal\": \"AF011222\",\n",
    "    \"Russian Neanderthal\": \"AF254446\",\n",
    "    \"European Human\": \"X90314\",\n",
    "    \"Mountain Gorilla Rwanda\": \"AF089820\",\n",
    "    \"Chimp Troglodytes\": \"AF176766\",\n",
    "    \"Puti Orangutan\": \"AF451972\",\n",
    "    \"Jari Orangutan\": \"AF451964\",\n",
    "    \"Western Lowland Gorilla\": \"AY079510\",\n",
    "    \"Eastern Lowland Gorilla\": \"AF050738\",\n",
    "    \"Chimp Schweinfurthii\": \"AF176722\",\n",
    "    \"Chimp Vellerosus\": \"AF315498\",\n",
    "    \"Chimp Verus\": \"AF176731\"\n",
    "}\n",
    "\n",
    "# Fetch FASTA sequences\n",
    "def fetch_fasta(accession):\n",
    "    handle = Entrez.efetch(db = \"nucleotide\", id = accession, rettype = \"fasta\", retmode = \"text\")\n",
    "    record = SeqIO.read(handle, \"fasta\")\n",
    "    handle.close()\n",
    "    return str(record.seq)  # Return as string\n",
    "\n",
    "# Store in dictionary\n",
    "real_dna_sequences = {species: fetch_fasta(acc) for species, acc in species_data.items()}"
   ]
  },
  {
   "cell_type": "code",
   "execution_count": 8,
   "id": "83e99d5f-0203-403c-876f-e001e913e1c5",
   "metadata": {},
   "outputs": [],
   "source": [
    "real_distances = [] # initialize list to store GenBank DNA\n",
    "species_list = list(real_dna_sequences.keys()) # list GenBank species keys\n",
    "\n",
    "for i in range(len(species_list)): # loop to iterate through DNA strands\n",
    "    for j in range(i + 1, len(species_list)): # loops through the DNA strands that have not been looped through yet in i\n",
    "        real_distances.append(EditDistance(real_dna_sequences[species_list[i]], real_dna_sequences[species_list[j]])) # calculate edit distances and add them to the list"
   ]
  },
  {
   "cell_type": "code",
   "execution_count": 11,
   "id": "35b4eb5b-eb4d-4af2-a65a-312f15b140ae",
   "metadata": {},
   "outputs": [
    {
     "name": "stdout",
     "output_type": "stream",
     "text": [
      "122.53030303030303\n"
     ]
    },
    {
     "data": {
      "image/png": "[encoded data removed]",
      "text/plain": [
       "<Figure size 640x480 with 1 Axes>"
      ]
     },
     "metadata": {},
     "output_type": "display_data"
    }
   ],
   "source": [
    "plt.hist(real_distances, edgecolor = 'black') # creates histogram\n",
    "plt.title('Edit Distance Frequency of GenBank DNA')\n",
    "plt.xlabel('Edit Distance') # x-axis label\n",
    "plt.ylabel('Frequency') # y-axis label\n",
    "\n",
    "mean_distance = sum(real_distances)/len(real_distances) # calculating sum\n",
    "print(mean_distance)"
   ]
  },
  {
   "cell_type": "markdown",
   "id": "e3a77e42-e127-4905-8aef-8ec160bf73bd",
   "metadata": {},
   "source": [
    "Clearly the edit distance is much lower for the real DNA sequences compared to my randomly generated ones (213.9 vs 122.5).\n",
    "This makes sense as human species are closely related to each other so having significantly closer DNA sequences is expected \n",
    "compared to the randomly generated ones.\n",
    "\n",
    "Looking at the first graph (random DNA seqences), it is clear that they form a normal distribution and are relatively normally distributed with small bumpiness caused by the small sample size. This is appropriate since they are randomly generated. For the real DNA, the graph is strongly skewed left which is interesting. The lower numbers make sense as human species are closely related. The edit distances being skewed left means that some human species on this list were closer linked than others, but for the most part are more different."
   ]
  },
  {
   "cell_type": "code",
   "execution_count": null,
   "id": "6e7e2589-ae63-4bf7-bb77-2c0496859761",
   "metadata": {},
   "outputs": [],
   "source": []
  }
 ],
 "metadata": {
  "kernelspec": {
   "display_name": "Python 3 (ipykernel)",
   "language": "python",
   "name": "python3"
  },
  "language_info": {
   "codemirror_mode": {
    "name": "ipython",
    "version": 3
   },
   "file_extension": ".py",
   "mimetype": "text/x-python",
   "name": "python",
   "nbconvert_exporter": "python",
   "pygments_lexer": "ipython3",
   "version": "3.12.3"
  }
 },
 "nbformat": 4,
 "nbformat_minor": 5
}
